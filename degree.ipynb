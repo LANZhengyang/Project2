{
 "cells": [
  {
   "cell_type": "code",
   "execution_count": 2,
   "metadata": {},
   "outputs": [],
   "source": [
    "import unittest\n",
    "from glob import glob\n",
    "import numpy as np\n",
    "from sklearn.preprocessing import PolynomialFeatures\n",
    "from sklearn.pipeline import make_pipeline\n",
    "from sklearn.metrics import mean_squared_error\n",
    "from sklearn import linear_model\n",
    "import matplotlib.pyplot as plt\n"
   ]
  },
  {
   "cell_type": "code",
   "execution_count": 357,
   "metadata": {},
   "outputs": [],
   "source": [
    "class curve:\n",
    "    \n",
    "    def __init__(self, para):\n",
    "        self.para = para\n",
    "        \n",
    "    def degree(self):\n",
    "        return len(self.para)-1\n",
    "    \n",
    "    def polynomial_value(self, x):\n",
    "        y = 0\n",
    "        for i in range(len(self.para)):\n",
    "             y += self.para[i]*(x**i)\n",
    "        return y\n",
    "    def plot(self):\n",
    "        x_plot = np.linspace(-100, 100, 400)\n",
    "        plt.plot(x_plot, self.polynomial_value(x_plot))\n",
    "    def plot_random_point(self):\n",
    "        r = np.random.uniform(-100, 100, 10)\n",
    "        plt.plot(r, self.polynomial_value(r),'o')\n",
    "    def random_point(self):\n",
    "        r = np.random.uniform(-100, 100, 10)\n",
    "        return r, self.polynomial_value(r)\n",
    "    \n",
    "            "
   ]
  },
  {
   "cell_type": "code",
   "execution_count": 381,
   "metadata": {},
   "outputs": [],
   "source": [
    "# a=([200,300,13])\n",
    "# example=curve(a)"
   ]
  },
  {
   "cell_type": "code",
   "execution_count": 379,
   "metadata": {
    "scrolled": true
   },
   "outputs": [],
   "source": [
    "# example.plot_random_point()\n",
    "# #example.plot()\n",
    "# #example.random_point()"
   ]
  },
  {
   "cell_type": "code",
   "execution_count": 374,
   "metadata": {},
   "outputs": [],
   "source": [
    "class estimation:\n",
    "    def __init__(self, x, y):\n",
    "        self.x = x\n",
    "        self.y = y\n",
    "    def plot(self):\n",
    "        plt.plot(self.x, self.y, 'o')\n",
    "        \n",
    "    def plot_degree(self, n):\n",
    "        reg = linear_model.LinearRegression()\n",
    "        model = make_pipeline(PolynomialFeatures(n), linear_model.LinearRegression())\n",
    "        model.fit(self.x.reshape(-1, 1), self.y.reshape(-1, 1))\n",
    "        x_plot = np.linspace(-100, 100, 400)\n",
    "        plt.plot(x_plot, model.predict(x_plot.reshape(-1, 1)))\n",
    "        \n",
    "        \n",
    "    def degree_is(self):\n",
    "        reg = linear_model.LinearRegression()\n",
    "        MSE = np.ones(9)\n",
    "        for d in range(1, 10):\n",
    "            model = make_pipeline(PolynomialFeatures(d), linear_model.LinearRegression())\n",
    "            model.fit(self.x[:5].reshape(-1, 1),self.y[:5].reshape(-1, 1))\n",
    "            \n",
    "            MSE[d-1] = mean_squared_error(model.predict(self.x[5:].reshape(-1, 1)), self.y[5:].reshape(-1, 1))\n",
    "        MSE = list(MSE)\n",
    "        return (MSE.index(min(MSE))+1)\n",
    "        \n",
    "    \n",
    "        \n",
    "        \n",
    "            \n",
    "            \n",
    "            \n",
    "        "
   ]
  },
  {
   "cell_type": "code",
   "execution_count": 378,
   "metadata": {},
   "outputs": [],
   "source": [
    "# test=example.random_point()\n",
    "# texample=estimation(test[0],test[1])\n",
    "# texample.plot()\n",
    "# texample.degree_is()"
   ]
  },
  {
   "cell_type": "code",
   "execution_count": 362,
   "metadata": {},
   "outputs": [],
   "source": [
    "def parse_test(file):\n",
    "    '''\n",
    "    Parse a test file\n",
    "    :param file: \n",
    "    :return: \n",
    "    '''\n",
    "\n",
    "    (x, y) = ([], [])\n",
    "    with open(file, 'r') as f:\n",
    "        l = [[num.replace('\\n', '') for num in line.split(',')]\n",
    "             for line in f]\n",
    "    try :\n",
    "        for i in range(len(l[0])):\n",
    "            x.append(float(l[0][i]))\n",
    "        for i in range(len(l[1])):\n",
    "            y.append(float(l[1][i]))\n",
    "    except Exception:\n",
    "        print(\"incorrect points input\")\n",
    "        return 0,0,0\n",
    "    \n",
    "    return (np.array(x), np.array(y), l[2][0])"
   ]
  },
  {
   "cell_type": "code",
   "execution_count": 372,
   "metadata": {},
   "outputs": [],
   "source": [
    "def launch_tests(path):\n",
    "    right_degree = 0\n",
    "    nb_test = 0\n",
    "    for test_file in glob(path):\n",
    "        (x,y,right_d) = \\\n",
    "            parse_test(test_file)\n",
    "        test_class = estimation(x,y)\n",
    "       # print(right_d)\n",
    "       # print(test_class.degree_is())\n",
    "       # test_class.plot_degree(5)\n",
    "       # test_class.plot()\n",
    "        if (test_class.degree_is() == int(right_d)):\n",
    "            right_degree += 1  \n",
    "        nb_test += 1\n",
    "    print(\"test \", nb_test, \"example, get \", right_degree, \"right\")\n",
    "\n",
    "    "
   ]
  },
  {
   "cell_type": "code",
   "execution_count": null,
   "metadata": {},
   "outputs": [],
   "source": [
    "path1= \"./test_file/test.txt\"\n",
    "path2= \"./test_file/test2.txt\"\n",
    "path3= \"./test_file/test3.txt\"\n",
    "path4= \"./test_file/*\"\n"
   ]
  },
  {
   "cell_type": "code",
   "execution_count": 377,
   "metadata": {},
   "outputs": [
    {
     "name": "stdout",
     "output_type": "stream",
     "text": [
      "test  3 example, get  3 right\n"
     ]
    }
   ],
   "source": [
    "launch_tests(path4)"
   ]
  },
  {
   "cell_type": "code",
   "execution_count": 331,
   "metadata": {},
   "outputs": [],
   "source": []
  }
 ],
 "metadata": {
  "kernelspec": {
   "display_name": "Python 3",
   "language": "python",
   "name": "python3"
  },
  "language_info": {
   "codemirror_mode": {
    "name": "ipython",
    "version": 3
   },
   "file_extension": ".py",
   "mimetype": "text/x-python",
   "name": "python",
   "nbconvert_exporter": "python",
   "pygments_lexer": "ipython3",
   "version": "3.7.4"
  }
 },
 "nbformat": 4,
 "nbformat_minor": 2
}
